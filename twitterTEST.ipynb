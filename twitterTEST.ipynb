{
 "cells": [
  {
   "cell_type": "code",
   "execution_count": 1,
   "metadata": {},
   "outputs": [
    {
     "ename": "IndexError",
     "evalue": "list index out of range",
     "output_type": "error",
     "traceback": [
      "\u001b[0;31m---------------------------------------------------------------------------\u001b[0m",
      "\u001b[0;31mIndexError\u001b[0m                                Traceback (most recent call last)",
      "Cell \u001b[0;32mIn[1], line 5\u001b[0m\n\u001b[1;32m      3\u001b[0m path_csv \u001b[39m=\u001b[39m \u001b[39m'\u001b[39m\u001b[39m./data/*.csv\u001b[39m\u001b[39m'\u001b[39m\n\u001b[1;32m      4\u001b[0m csv_list \u001b[39m=\u001b[39m glob(path_csv)\n\u001b[0;32m----> 5\u001b[0m df \u001b[39m=\u001b[39m pd\u001b[39m.\u001b[39mread_csv(csv_list[\u001b[39m0\u001b[39;49m])\n",
      "\u001b[0;31mIndexError\u001b[0m: list index out of range"
     ]
    }
   ],
   "source": [
    "from glob import glob\n",
    "import pandas as pd\n",
    "path_csv = './data/*.csv'\n",
    "csv_list = glob(path_csv)\n",
    "df = pd.read_csv(csv_list[0])"
   ]
  },
  {
   "cell_type": "code",
   "execution_count": 23,
   "metadata": {},
   "outputs": [],
   "source": [
    "# 6.2. 구조체와 함수\n",
    "\n",
    "tmp ='''반복문 (for, while, do-while)\n",
    "연산자\n",
    "상수와 매크로\n",
    "자료형과 변수\n",
    "기본 프로그램 작성과 컴파일\n",
    "통합 개발 환경 (IDE) 선택'''"
   ]
  },
  {
   "cell_type": "code",
   "execution_count": 24,
   "metadata": {},
   "outputs": [],
   "source": [
    "tmp = tmp.split('\\n')"
   ]
  },
  {
   "cell_type": "code",
   "execution_count": 20,
   "metadata": {},
   "outputs": [
    {
     "data": {
      "text/plain": [
       "['반복문 (for, while, do-while)', '연산자', '상수와 매크로', '자료형과 변수', '기본 프로그램 작성과 컴파일']"
      ]
     },
     "execution_count": 20,
     "metadata": {},
     "output_type": "execute_result"
    }
   ],
   "source": [
    "tmp"
   ]
  },
  {
   "cell_type": "code",
   "execution_count": 25,
   "metadata": {},
   "outputs": [
    {
     "name": "stdout",
     "output_type": "stream",
     "text": [
      "씨언어를 배우는 초급 파이썬 개발자에게 반복문 (for, while, do-while)에 대한 쉬운 설명과 python과 c 예제를 포함해서 알려줘\n",
      "\n",
      "씨언어를 배우는 초급 파이썬 개발자에게 연산자에 대한 쉬운 설명과 python과 c 예제를 포함해서 알려줘\n",
      "\n",
      "씨언어를 배우는 초급 파이썬 개발자에게 상수와 매크로에 대한 쉬운 설명과 python과 c 예제를 포함해서 알려줘\n",
      "\n",
      "씨언어를 배우는 초급 파이썬 개발자에게 자료형과 변수에 대한 쉬운 설명과 python과 c 예제를 포함해서 알려줘\n",
      "\n",
      "씨언어를 배우는 초급 파이썬 개발자에게 기본 프로그램 작성과 컴파일에 대한 쉬운 설명과 python과 c 예제를 포함해서 알려줘\n",
      "\n",
      "씨언어를 배우는 초급 파이썬 개발자에게 통합 개발 환경 (IDE) 선택에 대한 쉬운 설명과 python과 c 예제를 포함해서 알려줘\n",
      "\n"
     ]
    }
   ],
   "source": [
    "for i in tmp:\n",
    "    print(f\"씨언어를 배우는 초급 파이썬 개발자에게 {i}에 대한 쉬운 설명과 python과 c 예제를 포함해서 알려줘\")\n",
    "    print()"
   ]
  },
  {
   "cell_type": "code",
   "execution_count": null,
   "metadata": {},
   "outputs": [],
   "source": []
  }
 ],
 "metadata": {
  "kernelspec": {
   "display_name": "Python 3",
   "language": "python",
   "name": "python3"
  },
  "language_info": {
   "codemirror_mode": {
    "name": "ipython",
    "version": 3
   },
   "file_extension": ".py",
   "mimetype": "text/x-python",
   "name": "python",
   "nbconvert_exporter": "python",
   "pygments_lexer": "ipython3",
   "version": "3.8.0"
  },
  "orig_nbformat": 4,
  "vscode": {
   "interpreter": {
    "hash": "949777d72b0d2535278d3dc13498b2535136f6dfe0678499012e853ee9abcab1"
   }
  }
 },
 "nbformat": 4,
 "nbformat_minor": 2
}
